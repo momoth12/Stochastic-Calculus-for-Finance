{
 "cells": [
  {
   "cell_type": "code",
   "execution_count": 1,
   "metadata": {},
   "outputs": [],
   "source": [
    "def d_plus(s,k,v):\n",
    "    return np.log(s/k)/np.sqrt(v) + 0.5*np.sqrt(v)\n",
    "\n",
    "def greek_gamma(So,K,sigma,T,r,t):\n",
    "    dp=d_plus(So,K*np.exp(-r*T),T*sigma**2)\n",
    "    greek= stats.norm.pdf(dp)/(So*sigma*np.sqrt(T - t))\n",
    "    return greek\n"
   ]
  },
  {
   "cell_type": "code",
   "execution_count": null,
   "metadata": {},
   "outputs": [],
   "source": [
    "def profit_and_loss(So, sigma_0, lmda, c, gamma, T, r, K, n, N=1000):\n",
    "    dt=T/N\n",
    "    sig_trajectory = simulate_Ornstein_Uhlenbeck(sigma_0, c, lmda, gamma, T, n, M=N)\n",
    "    asset_trajectory = risky_asset_price(So, sigma_0, c, lmda, gamma, T, n, sigma_traj=sig_trajectory)\n",
    "\n",
    "\n",
    "    times = np.linspace(0, T, n)[:-1]\n",
    "    greek_gamma = greek_gamma( sig_trajectory, K[None,None,:], sigma_0, T,r,times[:,None,None])\n",
    "    \n",
    "    function_ = np.exp(r*(T - times[:,None,None]))*(sigma_0**2 - sig_trajectory**2)*(asset_trajectory**2)*greek_gamma\n",
    "    integral =  np.sum(function_*dt, axis=0)\n",
    "    return asset_trajectory, 0.5*integral.T\n",
    "    \n",
    "    "
   ]
  },
  {
   "cell_type": "code",
   "execution_count": null,
   "metadata": {},
   "outputs": [],
   "source": []
  },
  {
   "cell_type": "code",
   "execution_count": null,
   "metadata": {},
   "outputs": [],
   "source": []
  }
 ],
 "metadata": {
  "kernelspec": {
   "display_name": "Python 3",
   "language": "python",
   "name": "python3"
  },
  "language_info": {
   "codemirror_mode": {
    "name": "ipython",
    "version": 3
   },
   "file_extension": ".py",
   "mimetype": "text/x-python",
   "name": "python",
   "nbconvert_exporter": "python",
   "pygments_lexer": "ipython3",
   "version": "3.11.6"
  }
 },
 "nbformat": 4,
 "nbformat_minor": 2
}
